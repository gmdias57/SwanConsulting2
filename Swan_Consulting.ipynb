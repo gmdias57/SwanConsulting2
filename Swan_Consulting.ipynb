{
 "cells": [
  {
   "cell_type": "markdown",
   "id": "bb241aeb-679a-40b0-b373-38bc4f4f838f",
   "metadata": {},
   "source": [
    "## Swan Consulting Feature engineering and Model Creation \n",
    "\n",
    "In this workbook, we will explore and engineer the features from our Swan Consulting Customer Dataset, then move onto create a DecisionTreeClassifier and evaluate it's performance"
   ]
  },
  {
   "cell_type": "code",
   "execution_count": 5,
   "id": "87406e7a-4348-4cd7-86df-f7a13e16ccd9",
   "metadata": {},
   "outputs": [],
   "source": [
    "import pandas as pd, numpy as np, matplotlib.pyplot as plt, seaborn as sns\n",
    "\n",
    "from sklearn.model_selection import train_test_split\n",
    "\n",
    "from sklearn import metrics\n",
    "from sklearn.tree import DecisionTreeClassifier\n",
    "from sklearn.ensemble import RandomForestClassifier, ExtraTreesClassifier, BaggingClassifier \n",
    "from sklearn.model_selection import train_test_split, cross_val_score, GridSearchCV\n",
    "from sklearn.metrics import confusion_matrix, accuracy_score"
   ]
  },
  {
   "cell_type": "code",
   "execution_count": 6,
   "id": "d48d650d-dc37-4ae1-9ec3-b333d11e76bc",
   "metadata": {},
   "outputs": [],
   "source": [
    "def apr(y_pred, y_real):\n",
    "    accuracy = metrics.accuracy_score(y_real, y_pred)\n",
    "    precision = metrics.precision_score(y_real, y_pred)\n",
    "    recall = metrics.recall_score(y_real, y_pred)\n",
    "    f1 = metrics.f1_score(y_real, y_pred)\n",
    "    \n",
    "    print(f\"Accuracy:{accuracy}\")\n",
    "    print(f\"Precision:{precision}\")\n",
    "    print(f\"Recall:{recall}\")\n",
    "    print(f\"F1:{f1}\")"
   ]
  },
  {
   "cell_type": "markdown",
   "id": "5789ed47-101d-49ad-8583-e271ca03891a",
   "metadata": {},
   "source": [
    "## Data Import and Exploration"
   ]
  },
  {
   "cell_type": "code",
   "execution_count": 7,
   "id": "6a2fe150-40c8-416d-a151-3642ca1aeb27",
   "metadata": {},
   "outputs": [
    {
     "ename": "FileNotFoundError",
     "evalue": "[Errno 2] No such file or directory: '/Users/zachgolant/Desktop/DF/1 - Project Data.xlsx'",
     "output_type": "error",
     "traceback": [
      "\u001b[1;31m---------------------------------------------------------------------------\u001b[0m",
      "\u001b[1;31mFileNotFoundError\u001b[0m                         Traceback (most recent call last)",
      "\u001b[1;32m~\\AppData\\Local\\Temp\\ipykernel_26596\\133111145.py\u001b[0m in \u001b[0;36m<module>\u001b[1;34m\u001b[0m\n\u001b[1;32m----> 1\u001b[1;33m \u001b[0mswan_og\u001b[0m \u001b[1;33m=\u001b[0m \u001b[0mpd\u001b[0m\u001b[1;33m.\u001b[0m\u001b[0mread_excel\u001b[0m\u001b[1;33m(\u001b[0m\u001b[1;34m\"/Users/zachgolant/Desktop/DF/1 - Project Data.xlsx\"\u001b[0m\u001b[1;33m)\u001b[0m\u001b[1;33m\u001b[0m\u001b[1;33m\u001b[0m\u001b[0m\n\u001b[0m\u001b[0;32m      2\u001b[0m \u001b[0mswan\u001b[0m \u001b[1;33m=\u001b[0m \u001b[0mswan\u001b[0m\u001b[1;33m.\u001b[0m\u001b[0mcopy\u001b[0m\u001b[1;33m(\u001b[0m\u001b[1;33m)\u001b[0m\u001b[1;33m\u001b[0m\u001b[1;33m\u001b[0m\u001b[0m\n\u001b[0;32m      3\u001b[0m \u001b[0mswan\u001b[0m\u001b[1;33m.\u001b[0m\u001b[0mhead\u001b[0m\u001b[1;33m(\u001b[0m\u001b[1;33m)\u001b[0m\u001b[1;33m\u001b[0m\u001b[1;33m\u001b[0m\u001b[0m\n",
      "\u001b[1;32m~\\anaconda3\\lib\\site-packages\\pandas\\util\\_decorators.py\u001b[0m in \u001b[0;36mwrapper\u001b[1;34m(*args, **kwargs)\u001b[0m\n\u001b[0;32m    309\u001b[0m                     \u001b[0mstacklevel\u001b[0m\u001b[1;33m=\u001b[0m\u001b[0mstacklevel\u001b[0m\u001b[1;33m,\u001b[0m\u001b[1;33m\u001b[0m\u001b[1;33m\u001b[0m\u001b[0m\n\u001b[0;32m    310\u001b[0m                 )\n\u001b[1;32m--> 311\u001b[1;33m             \u001b[1;32mreturn\u001b[0m \u001b[0mfunc\u001b[0m\u001b[1;33m(\u001b[0m\u001b[1;33m*\u001b[0m\u001b[0margs\u001b[0m\u001b[1;33m,\u001b[0m \u001b[1;33m**\u001b[0m\u001b[0mkwargs\u001b[0m\u001b[1;33m)\u001b[0m\u001b[1;33m\u001b[0m\u001b[1;33m\u001b[0m\u001b[0m\n\u001b[0m\u001b[0;32m    312\u001b[0m \u001b[1;33m\u001b[0m\u001b[0m\n\u001b[0;32m    313\u001b[0m         \u001b[1;32mreturn\u001b[0m \u001b[0mwrapper\u001b[0m\u001b[1;33m\u001b[0m\u001b[1;33m\u001b[0m\u001b[0m\n",
      "\u001b[1;32m~\\anaconda3\\lib\\site-packages\\pandas\\io\\excel\\_base.py\u001b[0m in \u001b[0;36mread_excel\u001b[1;34m(io, sheet_name, header, names, index_col, usecols, squeeze, dtype, engine, converters, true_values, false_values, skiprows, nrows, na_values, keep_default_na, na_filter, verbose, parse_dates, date_parser, thousands, decimal, comment, skipfooter, convert_float, mangle_dupe_cols, storage_options)\u001b[0m\n\u001b[0;32m    455\u001b[0m     \u001b[1;32mif\u001b[0m \u001b[1;32mnot\u001b[0m \u001b[0misinstance\u001b[0m\u001b[1;33m(\u001b[0m\u001b[0mio\u001b[0m\u001b[1;33m,\u001b[0m \u001b[0mExcelFile\u001b[0m\u001b[1;33m)\u001b[0m\u001b[1;33m:\u001b[0m\u001b[1;33m\u001b[0m\u001b[1;33m\u001b[0m\u001b[0m\n\u001b[0;32m    456\u001b[0m         \u001b[0mshould_close\u001b[0m \u001b[1;33m=\u001b[0m \u001b[1;32mTrue\u001b[0m\u001b[1;33m\u001b[0m\u001b[1;33m\u001b[0m\u001b[0m\n\u001b[1;32m--> 457\u001b[1;33m         \u001b[0mio\u001b[0m \u001b[1;33m=\u001b[0m \u001b[0mExcelFile\u001b[0m\u001b[1;33m(\u001b[0m\u001b[0mio\u001b[0m\u001b[1;33m,\u001b[0m \u001b[0mstorage_options\u001b[0m\u001b[1;33m=\u001b[0m\u001b[0mstorage_options\u001b[0m\u001b[1;33m,\u001b[0m \u001b[0mengine\u001b[0m\u001b[1;33m=\u001b[0m\u001b[0mengine\u001b[0m\u001b[1;33m)\u001b[0m\u001b[1;33m\u001b[0m\u001b[1;33m\u001b[0m\u001b[0m\n\u001b[0m\u001b[0;32m    458\u001b[0m     \u001b[1;32melif\u001b[0m \u001b[0mengine\u001b[0m \u001b[1;32mand\u001b[0m \u001b[0mengine\u001b[0m \u001b[1;33m!=\u001b[0m \u001b[0mio\u001b[0m\u001b[1;33m.\u001b[0m\u001b[0mengine\u001b[0m\u001b[1;33m:\u001b[0m\u001b[1;33m\u001b[0m\u001b[1;33m\u001b[0m\u001b[0m\n\u001b[0;32m    459\u001b[0m         raise ValueError(\n",
      "\u001b[1;32m~\\anaconda3\\lib\\site-packages\\pandas\\io\\excel\\_base.py\u001b[0m in \u001b[0;36m__init__\u001b[1;34m(self, path_or_buffer, engine, storage_options)\u001b[0m\n\u001b[0;32m   1374\u001b[0m                 \u001b[0mext\u001b[0m \u001b[1;33m=\u001b[0m \u001b[1;34m\"xls\"\u001b[0m\u001b[1;33m\u001b[0m\u001b[1;33m\u001b[0m\u001b[0m\n\u001b[0;32m   1375\u001b[0m             \u001b[1;32melse\u001b[0m\u001b[1;33m:\u001b[0m\u001b[1;33m\u001b[0m\u001b[1;33m\u001b[0m\u001b[0m\n\u001b[1;32m-> 1376\u001b[1;33m                 ext = inspect_excel_format(\n\u001b[0m\u001b[0;32m   1377\u001b[0m                     \u001b[0mcontent_or_path\u001b[0m\u001b[1;33m=\u001b[0m\u001b[0mpath_or_buffer\u001b[0m\u001b[1;33m,\u001b[0m \u001b[0mstorage_options\u001b[0m\u001b[1;33m=\u001b[0m\u001b[0mstorage_options\u001b[0m\u001b[1;33m\u001b[0m\u001b[1;33m\u001b[0m\u001b[0m\n\u001b[0;32m   1378\u001b[0m                 )\n",
      "\u001b[1;32m~\\anaconda3\\lib\\site-packages\\pandas\\io\\excel\\_base.py\u001b[0m in \u001b[0;36minspect_excel_format\u001b[1;34m(content_or_path, storage_options)\u001b[0m\n\u001b[0;32m   1248\u001b[0m         \u001b[0mcontent_or_path\u001b[0m \u001b[1;33m=\u001b[0m \u001b[0mBytesIO\u001b[0m\u001b[1;33m(\u001b[0m\u001b[0mcontent_or_path\u001b[0m\u001b[1;33m)\u001b[0m\u001b[1;33m\u001b[0m\u001b[1;33m\u001b[0m\u001b[0m\n\u001b[0;32m   1249\u001b[0m \u001b[1;33m\u001b[0m\u001b[0m\n\u001b[1;32m-> 1250\u001b[1;33m     with get_handle(\n\u001b[0m\u001b[0;32m   1251\u001b[0m         \u001b[0mcontent_or_path\u001b[0m\u001b[1;33m,\u001b[0m \u001b[1;34m\"rb\"\u001b[0m\u001b[1;33m,\u001b[0m \u001b[0mstorage_options\u001b[0m\u001b[1;33m=\u001b[0m\u001b[0mstorage_options\u001b[0m\u001b[1;33m,\u001b[0m \u001b[0mis_text\u001b[0m\u001b[1;33m=\u001b[0m\u001b[1;32mFalse\u001b[0m\u001b[1;33m\u001b[0m\u001b[1;33m\u001b[0m\u001b[0m\n\u001b[0;32m   1252\u001b[0m     ) as handle:\n",
      "\u001b[1;32m~\\anaconda3\\lib\\site-packages\\pandas\\io\\common.py\u001b[0m in \u001b[0;36mget_handle\u001b[1;34m(path_or_buf, mode, encoding, compression, memory_map, is_text, errors, storage_options)\u001b[0m\n\u001b[0;32m    793\u001b[0m         \u001b[1;32melse\u001b[0m\u001b[1;33m:\u001b[0m\u001b[1;33m\u001b[0m\u001b[1;33m\u001b[0m\u001b[0m\n\u001b[0;32m    794\u001b[0m             \u001b[1;31m# Binary mode\u001b[0m\u001b[1;33m\u001b[0m\u001b[1;33m\u001b[0m\u001b[0m\n\u001b[1;32m--> 795\u001b[1;33m             \u001b[0mhandle\u001b[0m \u001b[1;33m=\u001b[0m \u001b[0mopen\u001b[0m\u001b[1;33m(\u001b[0m\u001b[0mhandle\u001b[0m\u001b[1;33m,\u001b[0m \u001b[0mioargs\u001b[0m\u001b[1;33m.\u001b[0m\u001b[0mmode\u001b[0m\u001b[1;33m)\u001b[0m\u001b[1;33m\u001b[0m\u001b[1;33m\u001b[0m\u001b[0m\n\u001b[0m\u001b[0;32m    796\u001b[0m         \u001b[0mhandles\u001b[0m\u001b[1;33m.\u001b[0m\u001b[0mappend\u001b[0m\u001b[1;33m(\u001b[0m\u001b[0mhandle\u001b[0m\u001b[1;33m)\u001b[0m\u001b[1;33m\u001b[0m\u001b[1;33m\u001b[0m\u001b[0m\n\u001b[0;32m    797\u001b[0m \u001b[1;33m\u001b[0m\u001b[0m\n",
      "\u001b[1;31mFileNotFoundError\u001b[0m: [Errno 2] No such file or directory: '/Users/zachgolant/Desktop/DF/1 - Project Data.xlsx'"
     ]
    }
   ],
   "source": [
    "swan_og = pd.read_excel(\"/Users/zachgolant/Desktop/DF/1 - Project Data.xlsx\")\n",
    "swan = swan.copy()\n",
    "swan.head()"
   ]
  },
  {
   "cell_type": "code",
   "execution_count": null,
   "id": "1f5b73c3-63ea-4041-800d-e97aae6bb237",
   "metadata": {},
   "outputs": [],
   "source": [
    "swan.info()"
   ]
  },
  {
   "cell_type": "code",
   "execution_count": null,
   "id": "7c82a446-d8fb-4b27-88a9-5dd7b33cd327",
   "metadata": {},
   "outputs": [],
   "source": [
    "swan.loc[:,'Tenure Months':'Total Charges']"
   ]
  },
  {
   "cell_type": "markdown",
   "id": "2b9e02d8-c4ad-4313-9289-3533fdd08144",
   "metadata": {},
   "source": [
    "## Feature Engineering"
   ]
  },
  {
   "cell_type": "code",
   "execution_count": null,
   "id": "e5ba7b74-d8c3-4f52-9e7c-78796cf8b085",
   "metadata": {},
   "outputs": [],
   "source": [
    "def yes_no(column):\n",
    "    x=column\n",
    "    if x=='Yes':\n",
    "        return 1\n",
    "    else:\n",
    "        return 0\n",
    "        \n",
    "products = ['Product dissatisfaction', 'Network reliability', 'Lack of self-service on Website', 'Limited range of services', 'Long distance charges', 'Lack of affordable download/upload speed' ]\n",
    "swan_services = ['Attitude of support person', 'Attitude of service provider',   'Price too high', 'Service dissatisfaction',  'Extra data charges', 'Poor expertise of phone support', 'Poor expertise of online support']\n",
    "competitor_services = ['Competitor offered higher download speeds', 'Competitor offered more data', 'Competitor made better offer', 'Competitor had better devices']\n",
    "\n",
    "def churn_reason(reason):\n",
    "    if reason in products:\n",
    "        return 'Issue with products' \n",
    "    elif reason in swan_services:\n",
    "        return 'Issue with Swan Services' \n",
    "    elif reason in competitor_services:\n",
    "        return 'Competitor offered better services'\n",
    "    else:\n",
    "        return 'Other'\n",
    "\n",
    "swan=swan[swan['Total Charges']!=' '] #Some customers are in the database but never actually used the product, also have Tenure=0"
   ]
  },
  {
   "cell_type": "code",
   "execution_count": null,
   "id": "32aac077-f797-4a72-8a9a-01ea5906afc9",
   "metadata": {},
   "outputs": [],
   "source": [
    "feature_eng(swan).columns"
   ]
  },
  {
   "cell_type": "code",
   "execution_count": null,
   "id": "1ec9c7ff-da1e-40e4-ba93-19402caf951e",
   "metadata": {},
   "outputs": [],
   "source": [
    "def feature_eng(x):\n",
    "    df=x.copy()\n",
    "    yes_no_columns=['Senior Citizen', 'Partner', 'Dependents', 'Phone Service', 'Multiple Lines',\n",
    "                    'Online Security', 'Online Backup', 'Device Protection', \n",
    "                    'Tech Support', 'Streaming TV', 'Streaming Movies', 'Paperless Billing']\n",
    "    for column in yes_no_columns:\n",
    "        df[column]=df[column].apply(yes_no) \n",
    "    encoding_columns=['Contract','Payment Method', 'Internet Service']\n",
    "    encoding_prefix=['Contract','Payment', 'Internet']\n",
    "    df= pd.get_dummies(data=df, \n",
    "                       columns=encoding_columns, \n",
    "                       prefix=encoding_prefix, \n",
    "                       dtype=int)\n",
    "    df.Gender = df.Gender.map({'Male':0, 'Female':1})\n",
    "\n",
    "    return df"
   ]
  },
  {
   "cell_type": "code",
   "execution_count": null,
   "id": "6601237b-65ed-4ec1-8947-277779a4c82f",
   "metadata": {},
   "outputs": [],
   "source": [
    "feature_eng(swan).info()"
   ]
  },
  {
   "cell_type": "code",
   "execution_count": null,
   "id": "139e7cc9-6f84-4398-baf8-ef630b74c5eb",
   "metadata": {},
   "outputs": [],
   "source": [
    "X_train.columns"
   ]
  },
  {
   "cell_type": "code",
   "execution_count": null,
   "id": "586d8d83-3bb7-4a06-8924-56f5b97a1d0f",
   "metadata": {},
   "outputs": [],
   "source": [
    "pd.DataFrame(list(zip(feature_cols, list(rf.feature_importances_)))).sort_values(by=[1], ascending= False)"
   ]
  },
  {
   "cell_type": "code",
   "execution_count": null,
   "id": "73fe495f-3cf6-46c0-b43c-4e49f1d9f06b",
   "metadata": {},
   "outputs": [],
   "source": [
    "feature_cols=[\n",
    "        'Gender', 'Senior Citizen',\n",
    "       'Partner', 'Dependents', 'Tenure Months', 'Phone Service',\n",
    "       'Multiple Lines', 'Online Security', 'Online Backup',\n",
    "       'Device Protection', 'Tech Support', 'Streaming TV', 'Streaming Movies',\n",
    "       'Paperless Billing', 'Monthly Charges', 'Total Charges','Contract_Month-to-month',\n",
    "       'Contract_One year', 'Contract_Two year',\n",
    "       'Payment_Bank transfer (automatic)', 'Payment_Credit card (automatic)',\n",
    "       'Payment_Electronic check', 'Payment_Mailed check', 'Internet_DSL',\n",
    "       'Internet_Fiber optic', 'Internet_No']\n",
    "target='Churn Value'\n",
    "\n",
    "X_train, X_test, y_train, y_test = train_test_split(feature_eng(swan)[feature_cols], swan[target], test_size = 0.2, random_state = 42)"
   ]
  },
  {
   "cell_type": "code",
   "execution_count": null,
   "id": "4c00f2c3-a9bc-4a4a-b26c-700eb8293992",
   "metadata": {},
   "outputs": [],
   "source": [
    "X_train.info()"
   ]
  },
  {
   "cell_type": "markdown",
   "id": "667132fc-95ae-4299-9483-ec0aa05f1385",
   "metadata": {},
   "source": [
    "## Model Fit and Evaluation"
   ]
  },
  {
   "cell_type": "markdown",
   "id": "688bbf6c-24a9-4e47-a07b-9a68bafe16f3",
   "metadata": {},
   "source": [
    "We are going to consider three different classification models for predicting churn risk: Logistic Regression, Random Forest Classifier and Extra Trees Classifier."
   ]
  },
  {
   "cell_type": "code",
   "execution_count": null,
   "id": "342231d3-f9f7-4e5b-98d6-3060d3a99a2e",
   "metadata": {},
   "outputs": [],
   "source": [
    "rf = RandomForestClassifier(n_estimators=150, max_depth=5, min_samples_split=2)\n",
    "rf.fit(X_train,y_train)\n",
    "rf_train_pred=rf.predict(X_train)\n",
    "apr(rf_train_pred, y_train)\n",
    "rf_test_pred=rf.predict(X_test)\n",
    "apr(rf_test_pred, y_test)"
   ]
  },
  {
   "cell_type": "code",
   "execution_count": null,
   "id": "99d6d0f7-9978-4c44-91dd-ad4ff50181a9",
   "metadata": {},
   "outputs": [],
   "source": [
    "et = ExtraTreesClassifier(n_estimators=150, max_depth=5, min_samples_split=3)\n",
    "et.fit(X_train,y_train)\n",
    "et_train_pred=et.predict(X_train)\n",
    "apr(et_train_pred, y_train)\n",
    "et_pred=et.predict(X_test)\n",
    "apr(et_pred, y_test)"
   ]
  },
  {
   "cell_type": "markdown",
   "id": "ead205fe-517c-4487-9b2c-863e4c5e0380",
   "metadata": {},
   "source": [
    "As we can see, the best baseline model seems to be Random Forests. Now we can move forwards optimising the model by tuning the hyper parameters and selecting variables."
   ]
  },
  {
   "cell_type": "markdown",
   "id": "9f08f2a5-dfd4-4c66-91d1-a8c0f868b836",
   "metadata": {},
   "source": [
    "## Grid Search Optimisation"
   ]
  },
  {
   "cell_type": "code",
   "execution_count": null,
   "id": "2b0f3e1e-a77c-4b52-92b2-5c299dc5f626",
   "metadata": {},
   "outputs": [],
   "source": [
    "rf=RandomForestClassifier(n_estimators=50, class_weight= None)\n",
    "rf_params = {\n",
    "    'max_depth': [2,4,6,8,10],\n",
    "    'min_samples_split': [2, 4,6,8,10]\n",
    "    \n",
    "}\n",
    "gs = GridSearchCV(rf, param_grid=rf_params, cv=5, verbose=1)\n",
    "gs.fit(X_train, y_train)\n",
    "print(gs.best_score_)\n",
    "gs.best_params_"
   ]
  },
  {
   "cell_type": "code",
   "execution_count": null,
   "id": "82e84dd8-69b2-41be-83d5-b746bac15331",
   "metadata": {},
   "outputs": [],
   "source": [
    "rf = RandomForestClassifier(n_estimators=250, \n",
    "                            max_depth=6, \n",
    "                            min_samples_split=6, \n",
    "                            class_weight=None)\n",
    "rf.fit(X_train,y_train)\n",
    "rf_train_pred=rf.predict(X_train)\n",
    "apr(rf_train_pred, y_train)\n",
    "rf_test_pred=rf.predict(X_test)\n",
    "apr(rf_test_pred, y_test)"
   ]
  },
  {
   "cell_type": "code",
   "execution_count": null,
   "id": "19f085f5-4068-4950-aa96-b41dc81e22ab",
   "metadata": {},
   "outputs": [],
   "source": [
    "pd.DataFrame(list(zip(feature_cols, list(rf.feature_importances_)))).sort_values(by=[1])"
   ]
  },
  {
   "cell_type": "code",
   "execution_count": null,
   "id": "57907f8a-8abb-4dba-b845-6e5ff4e807de",
   "metadata": {},
   "outputs": [],
   "source": [
    "swan1.columns"
   ]
  },
  {
   "cell_type": "markdown",
   "id": "2a47724a-06c2-428e-8f27-131b6e17cd89",
   "metadata": {},
   "source": [
    "## Evaluating Churn Risk"
   ]
  },
  {
   "cell_type": "code",
   "execution_count": null,
   "id": "d1be1cb9-c00a-4429-9a24-bb4df9c7146d",
   "metadata": {},
   "outputs": [],
   "source": [
    "swan1=swan.copy()\n",
    "\n",
    "swan1['probability_churn']=rf.predict_proba(feature_eng(swan)[feature_cols])[:,1]\n",
    "top_500_risk=swan1[swan1['Churn Label']=='No']\\\n",
    "        .sort_values(by=['probability_churn'],ascending=False)\\\n",
    "        [['CustomerID','probability_churn']]\\\n",
    "        .head(500)\\\n",
    "        .reset_index(drop=True)\n",
    "top_500_risk\n"
   ]
  },
  {
   "cell_type": "code",
   "execution_count": null,
   "id": "fc675860-bc47-4594-9eb7-ff6438235b9d",
   "metadata": {},
   "outputs": [],
   "source": [
    "churn_risk=swan1[['CustomerID','probability_churn']]\n",
    "churn_risk"
   ]
  },
  {
   "cell_type": "code",
   "execution_count": null,
   "id": "e1063b00-6d29-41ec-a65e-bb67d0917de0",
   "metadata": {},
   "outputs": [],
   "source": []
  }
 ],
 "metadata": {
  "kernelspec": {
   "display_name": "Python 3 (ipykernel)",
   "language": "python",
   "name": "python3"
  },
  "language_info": {
   "codemirror_mode": {
    "name": "ipython",
    "version": 3
   },
   "file_extension": ".py",
   "mimetype": "text/x-python",
   "name": "python",
   "nbconvert_exporter": "python",
   "pygments_lexer": "ipython3",
   "version": "3.9.13"
  }
 },
 "nbformat": 4,
 "nbformat_minor": 5
}
