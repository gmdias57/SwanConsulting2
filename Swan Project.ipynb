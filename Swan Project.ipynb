{
 "cells": [
  {
   "cell_type": "markdown",
   "id": "9884034e-2dc2-477e-8590-f086ffba1375",
   "metadata": {},
   "source": [
    "TEST CHANGE"
   ]
  },
  {
   "cell_type": "markdown",
   "id": "114827d7-89f6-4939-aa8b-e6fcca8db80d",
   "metadata": {},
   "source": [
    "#### **Swan Project - Decision Trees**"
   ]
  },
  {
   "cell_type": "code",
   "execution_count": 3,
   "id": "34e9fd97-07d8-4eff-87be-345c429fc0f8",
   "metadata": {
    "tags": []
   },
   "outputs": [],
   "source": [
    "# The big four libraries!\n",
    "import numpy as np\n",
    "import seaborn as sns\n",
    "import matplotlib.pyplot as plt\n",
    "import pandas as pd\n",
    "\n",
    "# Measure performance of our model.\n",
    "from sklearn import metrics \n",
    "\n",
    "# Import the decision tree model \n",
    "from sklearn.tree import DecisionTreeClassifier\n",
    "from sklearn import tree\n",
    "## Import Logistic Regression from sklearn\n",
    "from sklearn.linear_model import LogisticRegression\n",
    "from sklearn.model_selection import train_test_split"
   ]
  },
  {
   "cell_type": "code",
   "execution_count": 4,
   "id": "2e8070fb-8f99-47fd-9027-d912191fbcd6",
   "metadata": {
    "tags": []
   },
   "outputs": [
    {
     "ename": "FileNotFoundError",
     "evalue": "[Errno 2] No such file or directory: '1 - Project Data.csv'",
     "output_type": "error",
     "traceback": [
      "\u001b[1;31m---------------------------------------------------------------------------\u001b[0m",
      "\u001b[1;31mFileNotFoundError\u001b[0m                         Traceback (most recent call last)",
      "\u001b[1;32m~\\AppData\\Local\\Temp\\ipykernel_26868\\1108201768.py\u001b[0m in \u001b[0;36m<module>\u001b[1;34m\u001b[0m\n\u001b[1;32m----> 1\u001b[1;33m \u001b[0mswan\u001b[0m \u001b[1;33m=\u001b[0m \u001b[0mpd\u001b[0m\u001b[1;33m.\u001b[0m\u001b[0mread_csv\u001b[0m\u001b[1;33m(\u001b[0m\u001b[1;34m'1 - Project Data.csv'\u001b[0m\u001b[1;33m)\u001b[0m\u001b[1;33m\u001b[0m\u001b[1;33m\u001b[0m\u001b[0m\n\u001b[0m",
      "\u001b[1;32m~\\anaconda3\\lib\\site-packages\\pandas\\util\\_decorators.py\u001b[0m in \u001b[0;36mwrapper\u001b[1;34m(*args, **kwargs)\u001b[0m\n\u001b[0;32m    309\u001b[0m                     \u001b[0mstacklevel\u001b[0m\u001b[1;33m=\u001b[0m\u001b[0mstacklevel\u001b[0m\u001b[1;33m,\u001b[0m\u001b[1;33m\u001b[0m\u001b[1;33m\u001b[0m\u001b[0m\n\u001b[0;32m    310\u001b[0m                 )\n\u001b[1;32m--> 311\u001b[1;33m             \u001b[1;32mreturn\u001b[0m \u001b[0mfunc\u001b[0m\u001b[1;33m(\u001b[0m\u001b[1;33m*\u001b[0m\u001b[0margs\u001b[0m\u001b[1;33m,\u001b[0m \u001b[1;33m**\u001b[0m\u001b[0mkwargs\u001b[0m\u001b[1;33m)\u001b[0m\u001b[1;33m\u001b[0m\u001b[1;33m\u001b[0m\u001b[0m\n\u001b[0m\u001b[0;32m    312\u001b[0m \u001b[1;33m\u001b[0m\u001b[0m\n\u001b[0;32m    313\u001b[0m         \u001b[1;32mreturn\u001b[0m \u001b[0mwrapper\u001b[0m\u001b[1;33m\u001b[0m\u001b[1;33m\u001b[0m\u001b[0m\n",
      "\u001b[1;32m~\\anaconda3\\lib\\site-packages\\pandas\\io\\parsers\\readers.py\u001b[0m in \u001b[0;36mread_csv\u001b[1;34m(filepath_or_buffer, sep, delimiter, header, names, index_col, usecols, squeeze, prefix, mangle_dupe_cols, dtype, engine, converters, true_values, false_values, skipinitialspace, skiprows, skipfooter, nrows, na_values, keep_default_na, na_filter, verbose, skip_blank_lines, parse_dates, infer_datetime_format, keep_date_col, date_parser, dayfirst, cache_dates, iterator, chunksize, compression, thousands, decimal, lineterminator, quotechar, quoting, doublequote, escapechar, comment, encoding, encoding_errors, dialect, error_bad_lines, warn_bad_lines, on_bad_lines, delim_whitespace, low_memory, memory_map, float_precision, storage_options)\u001b[0m\n\u001b[0;32m    676\u001b[0m     \u001b[0mkwds\u001b[0m\u001b[1;33m.\u001b[0m\u001b[0mupdate\u001b[0m\u001b[1;33m(\u001b[0m\u001b[0mkwds_defaults\u001b[0m\u001b[1;33m)\u001b[0m\u001b[1;33m\u001b[0m\u001b[1;33m\u001b[0m\u001b[0m\n\u001b[0;32m    677\u001b[0m \u001b[1;33m\u001b[0m\u001b[0m\n\u001b[1;32m--> 678\u001b[1;33m     \u001b[1;32mreturn\u001b[0m \u001b[0m_read\u001b[0m\u001b[1;33m(\u001b[0m\u001b[0mfilepath_or_buffer\u001b[0m\u001b[1;33m,\u001b[0m \u001b[0mkwds\u001b[0m\u001b[1;33m)\u001b[0m\u001b[1;33m\u001b[0m\u001b[1;33m\u001b[0m\u001b[0m\n\u001b[0m\u001b[0;32m    679\u001b[0m \u001b[1;33m\u001b[0m\u001b[0m\n\u001b[0;32m    680\u001b[0m \u001b[1;33m\u001b[0m\u001b[0m\n",
      "\u001b[1;32m~\\anaconda3\\lib\\site-packages\\pandas\\io\\parsers\\readers.py\u001b[0m in \u001b[0;36m_read\u001b[1;34m(filepath_or_buffer, kwds)\u001b[0m\n\u001b[0;32m    573\u001b[0m \u001b[1;33m\u001b[0m\u001b[0m\n\u001b[0;32m    574\u001b[0m     \u001b[1;31m# Create the parser.\u001b[0m\u001b[1;33m\u001b[0m\u001b[1;33m\u001b[0m\u001b[0m\n\u001b[1;32m--> 575\u001b[1;33m     \u001b[0mparser\u001b[0m \u001b[1;33m=\u001b[0m \u001b[0mTextFileReader\u001b[0m\u001b[1;33m(\u001b[0m\u001b[0mfilepath_or_buffer\u001b[0m\u001b[1;33m,\u001b[0m \u001b[1;33m**\u001b[0m\u001b[0mkwds\u001b[0m\u001b[1;33m)\u001b[0m\u001b[1;33m\u001b[0m\u001b[1;33m\u001b[0m\u001b[0m\n\u001b[0m\u001b[0;32m    576\u001b[0m \u001b[1;33m\u001b[0m\u001b[0m\n\u001b[0;32m    577\u001b[0m     \u001b[1;32mif\u001b[0m \u001b[0mchunksize\u001b[0m \u001b[1;32mor\u001b[0m \u001b[0miterator\u001b[0m\u001b[1;33m:\u001b[0m\u001b[1;33m\u001b[0m\u001b[1;33m\u001b[0m\u001b[0m\n",
      "\u001b[1;32m~\\anaconda3\\lib\\site-packages\\pandas\\io\\parsers\\readers.py\u001b[0m in \u001b[0;36m__init__\u001b[1;34m(self, f, engine, **kwds)\u001b[0m\n\u001b[0;32m    930\u001b[0m \u001b[1;33m\u001b[0m\u001b[0m\n\u001b[0;32m    931\u001b[0m         \u001b[0mself\u001b[0m\u001b[1;33m.\u001b[0m\u001b[0mhandles\u001b[0m\u001b[1;33m:\u001b[0m \u001b[0mIOHandles\u001b[0m \u001b[1;33m|\u001b[0m \u001b[1;32mNone\u001b[0m \u001b[1;33m=\u001b[0m \u001b[1;32mNone\u001b[0m\u001b[1;33m\u001b[0m\u001b[1;33m\u001b[0m\u001b[0m\n\u001b[1;32m--> 932\u001b[1;33m         \u001b[0mself\u001b[0m\u001b[1;33m.\u001b[0m\u001b[0m_engine\u001b[0m \u001b[1;33m=\u001b[0m \u001b[0mself\u001b[0m\u001b[1;33m.\u001b[0m\u001b[0m_make_engine\u001b[0m\u001b[1;33m(\u001b[0m\u001b[0mf\u001b[0m\u001b[1;33m,\u001b[0m \u001b[0mself\u001b[0m\u001b[1;33m.\u001b[0m\u001b[0mengine\u001b[0m\u001b[1;33m)\u001b[0m\u001b[1;33m\u001b[0m\u001b[1;33m\u001b[0m\u001b[0m\n\u001b[0m\u001b[0;32m    933\u001b[0m \u001b[1;33m\u001b[0m\u001b[0m\n\u001b[0;32m    934\u001b[0m     \u001b[1;32mdef\u001b[0m \u001b[0mclose\u001b[0m\u001b[1;33m(\u001b[0m\u001b[0mself\u001b[0m\u001b[1;33m)\u001b[0m\u001b[1;33m:\u001b[0m\u001b[1;33m\u001b[0m\u001b[1;33m\u001b[0m\u001b[0m\n",
      "\u001b[1;32m~\\anaconda3\\lib\\site-packages\\pandas\\io\\parsers\\readers.py\u001b[0m in \u001b[0;36m_make_engine\u001b[1;34m(self, f, engine)\u001b[0m\n\u001b[0;32m   1214\u001b[0m             \u001b[1;31m# \"Union[str, PathLike[str], ReadCsvBuffer[bytes], ReadCsvBuffer[str]]\"\u001b[0m\u001b[1;33m\u001b[0m\u001b[1;33m\u001b[0m\u001b[0m\n\u001b[0;32m   1215\u001b[0m             \u001b[1;31m# , \"str\", \"bool\", \"Any\", \"Any\", \"Any\", \"Any\", \"Any\"\u001b[0m\u001b[1;33m\u001b[0m\u001b[1;33m\u001b[0m\u001b[0m\n\u001b[1;32m-> 1216\u001b[1;33m             self.handles = get_handle(  # type: ignore[call-overload]\n\u001b[0m\u001b[0;32m   1217\u001b[0m                 \u001b[0mf\u001b[0m\u001b[1;33m,\u001b[0m\u001b[1;33m\u001b[0m\u001b[1;33m\u001b[0m\u001b[0m\n\u001b[0;32m   1218\u001b[0m                 \u001b[0mmode\u001b[0m\u001b[1;33m,\u001b[0m\u001b[1;33m\u001b[0m\u001b[1;33m\u001b[0m\u001b[0m\n",
      "\u001b[1;32m~\\anaconda3\\lib\\site-packages\\pandas\\io\\common.py\u001b[0m in \u001b[0;36mget_handle\u001b[1;34m(path_or_buf, mode, encoding, compression, memory_map, is_text, errors, storage_options)\u001b[0m\n\u001b[0;32m    784\u001b[0m         \u001b[1;32mif\u001b[0m \u001b[0mioargs\u001b[0m\u001b[1;33m.\u001b[0m\u001b[0mencoding\u001b[0m \u001b[1;32mand\u001b[0m \u001b[1;34m\"b\"\u001b[0m \u001b[1;32mnot\u001b[0m \u001b[1;32min\u001b[0m \u001b[0mioargs\u001b[0m\u001b[1;33m.\u001b[0m\u001b[0mmode\u001b[0m\u001b[1;33m:\u001b[0m\u001b[1;33m\u001b[0m\u001b[1;33m\u001b[0m\u001b[0m\n\u001b[0;32m    785\u001b[0m             \u001b[1;31m# Encoding\u001b[0m\u001b[1;33m\u001b[0m\u001b[1;33m\u001b[0m\u001b[0m\n\u001b[1;32m--> 786\u001b[1;33m             handle = open(\n\u001b[0m\u001b[0;32m    787\u001b[0m                 \u001b[0mhandle\u001b[0m\u001b[1;33m,\u001b[0m\u001b[1;33m\u001b[0m\u001b[1;33m\u001b[0m\u001b[0m\n\u001b[0;32m    788\u001b[0m                 \u001b[0mioargs\u001b[0m\u001b[1;33m.\u001b[0m\u001b[0mmode\u001b[0m\u001b[1;33m,\u001b[0m\u001b[1;33m\u001b[0m\u001b[1;33m\u001b[0m\u001b[0m\n",
      "\u001b[1;31mFileNotFoundError\u001b[0m: [Errno 2] No such file or directory: '1 - Project Data.csv'"
     ]
    }
   ],
   "source": [
    "swan = pd.read_csv('1 - Project Data.csv')"
   ]
  },
  {
   "cell_type": "code",
   "execution_count": null,
   "id": "78b4ee52-0618-4e69-b6ec-cd42f04fafce",
   "metadata": {},
   "outputs": [],
   "source": [
    "swan.head()"
   ]
  },
  {
   "cell_type": "code",
   "execution_count": null,
   "id": "41a63473-b6fe-4f7b-a367-fbcbac4d0b50",
   "metadata": {
    "tags": []
   },
   "outputs": [],
   "source": [
    "swan.columns"
   ]
  },
  {
   "cell_type": "code",
   "execution_count": null,
   "id": "19205094-6a2e-4744-8ab2-ca3686f8dbce",
   "metadata": {
    "tags": []
   },
   "outputs": [],
   "source": [
    "swan['Tenure Months']"
   ]
  },
  {
   "cell_type": "code",
   "execution_count": null,
   "id": "c5020ed8-38d2-44af-a6dd-ee0cd0a3b1ae",
   "metadata": {
    "tags": []
   },
   "outputs": [],
   "source": [
    "swan.shape"
   ]
  },
  {
   "cell_type": "code",
   "execution_count": null,
   "id": "18a51c4a-e14e-4e87-87c3-9e44e0636d5d",
   "metadata": {
    "tags": []
   },
   "outputs": [],
   "source": [
    "swan.isnull().sum()"
   ]
  },
  {
   "cell_type": "code",
   "execution_count": null,
   "id": "9dec7741-686d-4c7e-bbaf-ef1bf30e80d2",
   "metadata": {
    "tags": []
   },
   "outputs": [],
   "source": [
    "swan['Churn Value'].value_counts()"
   ]
  },
  {
   "cell_type": "code",
   "execution_count": null,
   "id": "2bec1640-5928-4f20-adc5-fe48960db213",
   "metadata": {
    "tags": []
   },
   "outputs": [],
   "source": [
    "swan['Churn Reason'].value_counts()\n",
    "# Could group these into three groups: Products, Swan Servies and Competitors. "
   ]
  },
  {
   "cell_type": "markdown",
   "id": "0d1954fa-de9c-49ed-bda5-5918087db5cd",
   "metadata": {},
   "source": [
    "For the class imbalance: **model = DecisionTreeClassifier(class_weight=weights)**"
   ]
  },
  {
   "cell_type": "code",
   "execution_count": null,
   "id": "a1c3b848-545c-49ab-99af-b0c4efc37bbc",
   "metadata": {
    "tags": []
   },
   "outputs": [],
   "source": [
    "swan.Contract.unique()"
   ]
  },
  {
   "cell_type": "code",
   "execution_count": null,
   "id": "3590e522-463b-47ea-aa38-ae9e37d28525",
   "metadata": {
    "tags": []
   },
   "outputs": [],
   "source": [
    "swan['Payment Method'].unique()"
   ]
  },
  {
   "cell_type": "code",
   "execution_count": null,
   "id": "aab8ed7e-e99d-4c4d-9b8f-303ce81941c3",
   "metadata": {
    "tags": []
   },
   "outputs": [],
   "source": [
    "swan['Monthly Charges'].mean()"
   ]
  },
  {
   "cell_type": "code",
   "execution_count": null,
   "id": "ef7ffc40-f823-4076-9109-191eba462ed2",
   "metadata": {
    "tags": []
   },
   "outputs": [],
   "source": [
    "swan.dtypes"
   ]
  },
  {
   "cell_type": "markdown",
   "id": "bc606484-68aa-4a75-aa15-461468e9c757",
   "metadata": {},
   "source": [
    "**Feature Engineering**"
   ]
  },
  {
   "cell_type": "code",
   "execution_count": null,
   "id": "7dcf20c5-277f-4765-9d20-4c0701d89700",
   "metadata": {
    "tags": []
   },
   "outputs": [],
   "source": [
    "def yes_no(column):\n",
    "    x=column\n",
    "    if x=='Yes':\n",
    "        return 1\n",
    "    else:\n",
    "        return 0\n",
    "        \n",
    "products = ['Product dissatisfaction', 'Network reliability', 'Lack of self-service on Website', 'Limited range of services', 'Long distance charges', 'Lack of affordable download/upload speed' ]\n",
    "swan_services = ['Attitude of support person', 'Attitude of service provider',   'Price too high', 'Service dissatisfaction',  'Extra data charges', 'Poor expertise of phone support', 'Poor expertise of online support']\n",
    "competitor_services = ['Competitor offered higher download speeds', 'Competitor offered more data', 'Competitor made better offer', 'Competitor had better devices']\n",
    "\n",
    "def churn_reason(reason):\n",
    "    if reason in products:\n",
    "        return 'Issue with products' \n",
    "    elif reason in swan_services:\n",
    "        return 'Issue with Swan Services' \n",
    "    elif reason in competitor_services:\n",
    "        return 'Competitor offered better services'\n",
    "    else:\n",
    "        return 'Other'"
   ]
  },
  {
   "cell_type": "code",
   "execution_count": null,
   "id": "382fdef8-df8d-442d-98e9-8937b5c1749f",
   "metadata": {
    "tags": []
   },
   "outputs": [],
   "source": []
  },
  {
   "cell_type": "markdown",
   "id": "0b76ab8d-100d-4c89-a47e-edc549817f9f",
   "metadata": {},
   "source": [
    "#### **What factors influence Churning?**"
   ]
  },
  {
   "cell_type": "code",
   "execution_count": null,
   "id": "5bf3978c-3dd7-4b26-9f09-7486676fc085",
   "metadata": {
    "tags": []
   },
   "outputs": [],
   "source": [
    "def yes_no(column):\n",
    "    x=column\n",
    "    if x=='Yes':\n",
    "        return 1\n",
    "    else:\n",
    "        return 0\n",
    "    \n",
    "def feature_eng(x):\n",
    "    df=x.copy()\n",
    "    yes_no_columns=['Senior Citizen', 'Partner', 'Dependents', 'Phone Service', 'Multiple Lines',\n",
    "                    'Online Security', 'Online Backup', 'Device Protection', \n",
    "                    'Tech Support', 'Streaming TV', 'Streaming Movies', 'Paperless Billing']\n",
    "    for column in yes_no_columns:\n",
    "        df[column]=df[column].apply(yes_no)     \n",
    "    #df['Churn Category'] = df['Churn Reason'].apply(churn_reason)\n",
    "    encoding_columns=['Contract','Payment Method', 'Internet Service'] #'Churn Category']\n",
    "    encoding_prefix=['Contract','Payment', 'Internet'] #'Churn'\n",
    "    df= pd.get_dummies(data=df, \n",
    "                       columns=encoding_columns, \n",
    "                       prefix=encoding_prefix, \n",
    "                       dtype=int)\n",
    "    df.drop(columns = ['Count', 'Country', 'State', 'CustomerID','City', 'Churn Reason', 'Churn Label', 'Lat Long'], inplace= True)\n",
    "    df = df.drop(df[df['Total Charges'] == ' '].index)\n",
    "    df.Gender = df.Gender.map({'Male':0, 'Female':1})\n",
    "    return df"
   ]
  },
  {
   "cell_type": "code",
   "execution_count": null,
   "id": "3048c37e-906d-4c1e-b0ef-e75917b13e9a",
   "metadata": {
    "tags": []
   },
   "outputs": [],
   "source": [
    "# Correlation Table\n",
    "feature_eng(swan).corr(numeric_only=True)"
   ]
  },
  {
   "cell_type": "code",
   "execution_count": null,
   "id": "7c1afedb-5c35-4847-a32d-1d23124033c2",
   "metadata": {
    "tags": []
   },
   "outputs": [],
   "source": [
    "(feature_eng(swan).corr(numeric_only=True)['Churn Value'].abs().sort_values(ascending=False))"
   ]
  },
  {
   "cell_type": "code",
   "execution_count": null,
   "id": "5a914bac-fb81-48c7-a849-cd8fe0f01367",
   "metadata": {
    "tags": []
   },
   "outputs": [],
   "source": [
    "feature_eng(swan).columns"
   ]
  },
  {
   "cell_type": "code",
   "execution_count": null,
   "id": "ee51978d-558c-45d5-8d69-4785894485c2",
   "metadata": {
    "tags": []
   },
   "outputs": [],
   "source": [
    "plt.figure(figsize = (30, 20))\n",
    "sns.heatmap(feature_eng(swan).corr(numeric_only = True),\n",
    "            annot = True,\n",
    "            fmt = '.2',\n",
    "            cmap = 'rocket_r',\n",
    "            mask = np.triu(feature_eng(swan).corr(numeric_only = True)),\n",
    "            vmin = -1,\n",
    "            vmax = 1)\n",
    "\n",
    "plt.show()"
   ]
  },
  {
   "cell_type": "markdown",
   "id": "ef46ec61-26c3-4025-97d8-de6388420398",
   "metadata": {},
   "source": [
    "#### **Logistic Regression Model**"
   ]
  },
  {
   "cell_type": "code",
   "execution_count": null,
   "id": "ef38fb06-c5a4-41e6-8847-149101a2cd46",
   "metadata": {
    "tags": []
   },
   "outputs": [],
   "source": [
    "feature_eng(swan)"
   ]
  },
  {
   "cell_type": "code",
   "execution_count": null,
   "id": "af2ea00f-f354-4082-a4fc-e232a7239f60",
   "metadata": {
    "tags": []
   },
   "outputs": [],
   "source": [
    "df_model=feature_eng(swan).copy()"
   ]
  },
  {
   "cell_type": "code",
   "execution_count": null,
   "id": "051a8960-4300-4697-bd31-1bf9b236bb3c",
   "metadata": {
    "tags": []
   },
   "outputs": [],
   "source": [
    "df_model.head()"
   ]
  },
  {
   "cell_type": "code",
   "execution_count": null,
   "id": "6a909007-df96-4886-adf8-af1acf9d9a38",
   "metadata": {
    "tags": []
   },
   "outputs": [],
   "source": [
    "df_model.loc[:,'Tenure Months':'Contract_Month-to-month']"
   ]
  },
  {
   "cell_type": "code",
   "execution_count": null,
   "id": "78c0db35-429e-40d3-a18b-66bd883642e7",
   "metadata": {
    "tags": []
   },
   "outputs": [],
   "source": [
    "df_model.columns"
   ]
  },
  {
   "cell_type": "code",
   "execution_count": null,
   "id": "a0b3c8d2-b1a3-47b9-850c-418adc185164",
   "metadata": {
    "tags": []
   },
   "outputs": [],
   "source": [
    "y = df_model['Churn Value'].copy()"
   ]
  },
  {
   "cell_type": "code",
   "execution_count": null,
   "id": "e5a5481d-3593-4404-bd94-8a2b7528beeb",
   "metadata": {
    "tags": []
   },
   "outputs": [],
   "source": [
    "lr = LogisticRegression(max_iter=300, random_state=10)"
   ]
  },
  {
   "cell_type": "code",
   "execution_count": null,
   "id": "623d4114-2214-43a6-a277-e76d81708ae4",
   "metadata": {
    "tags": []
   },
   "outputs": [],
   "source": [
    "lr.fit(df_model, y)"
   ]
  },
  {
   "cell_type": "code",
   "execution_count": null,
   "id": "252def3d-bafd-4592-a694-184e25efda49",
   "metadata": {
    "tags": []
   },
   "outputs": [],
   "source": [
    "len(y) == df_model.shape[0]"
   ]
  },
  {
   "cell_type": "code",
   "execution_count": null,
   "id": "b5ae1e48-1646-4e4f-9a12-5864b439f5f6",
   "metadata": {
    "tags": []
   },
   "outputs": [],
   "source": [
    "Features = ['Zip Code', 'Lat Long', 'Latitude', 'Longitude', 'Gender',\n",
    "       'Senior Citizen', 'Partner', 'Dependents', 'Tenure Months',\n",
    "       'Phone Service', 'Multiple Lines', 'Online Security', 'Online Backup',\n",
    "       'Device Protection', 'Tech Support', 'Streaming TV', 'Streaming Movies',\n",
    "       'Paperless Billing', 'Monthly Charges', 'Total Charges', 'Churn Label',\n",
    "       'Contract_Month-to-month', 'Contract_One year',\n",
    "       'Contract_Two year', 'Payment_Bank transfer (automatic)',\n",
    "       'Payment_Credit card (automatic)', 'Payment_Electronic check',\n",
    "       'Payment_Mailed check', 'Internet_DSL', 'Internet_Fiber optic',\n",
    "       'Internet_No']"
   ]
  },
  {
   "cell_type": "code",
   "execution_count": null,
   "id": "d5cbf9bc-1d58-4a05-be29-61f336037c91",
   "metadata": {
    "tags": []
   },
   "outputs": [],
   "source": [
    "df_model.dtypes"
   ]
  },
  {
   "cell_type": "code",
   "execution_count": null,
   "id": "6b246ae3-5009-4bc1-a594-1ed870a1fd6c",
   "metadata": {
    "tags": []
   },
   "outputs": [],
   "source": [
    "lr.fit(df_model, y)"
   ]
  },
  {
   "cell_type": "code",
   "execution_count": null,
   "id": "17cab52c-1b96-4ac7-b7f1-d841ad86b914",
   "metadata": {},
   "outputs": [],
   "source": [
    "lr.predict_proba(df_model)"
   ]
  },
  {
   "cell_type": "code",
   "execution_count": null,
   "id": "130f4d43-135d-4fa6-b06b-5ddcffa8f2ef",
   "metadata": {},
   "outputs": [],
   "source": [
    "df_model[['prob_churn', 'prob_not_churn']] = lr.predict_proba(df_model)"
   ]
  },
  {
   "cell_type": "code",
   "execution_count": null,
   "id": "ffb70c36-db24-4ada-a330-8c110b123f30",
   "metadata": {
    "tags": []
   },
   "outputs": [],
   "source": [
    "df_model.head()"
   ]
  },
  {
   "cell_type": "code",
   "execution_count": null,
   "id": "2ae0377d-a0ff-4034-a727-bd58f2668812",
   "metadata": {
    "tags": []
   },
   "outputs": [],
   "source": [
    "df_model['y_pred'] = np.where(df_model['prob_churn']>.5, 1, 0)"
   ]
  },
  {
   "cell_type": "code",
   "execution_count": null,
   "id": "471cb4ae-0eb3-4324-8dd5-b867b0ba7c61",
   "metadata": {
    "tags": []
   },
   "outputs": [],
   "source": [
    "print(metrics.confusion_matrix(y, df_model['y_pred']))"
   ]
  },
  {
   "cell_type": "code",
   "execution_count": null,
   "id": "1935f45f-86bc-47b8-bf1c-a31df4ffa4a7",
   "metadata": {
    "tags": []
   },
   "outputs": [],
   "source": [
    "def get_results(actual, predicted):\n",
    "    print(\"The confusion matrix for your predictions is:\")\n",
    "    print(metrics.confusion_matrix(actual, predicted), \"\\n\")\n",
    "    print(f'The accuracy of your model is: {metrics.accuracy_score(actual, predicted)}')\n",
    "    print(f'The recall of your model is: {metrics.recall_score(actual, predicted)}')\n",
    "    print(f'The precision of your model is: {metrics.precision_score(actual, predicted)}')\n",
    "    print(f'The F1-score of your model is: {metrics.f1_score(actual, predicted)}')"
   ]
  },
  {
   "cell_type": "code",
   "execution_count": null,
   "id": "8e3ba3c5-8fa6-4f2f-808a-10aaecba23bd",
   "metadata": {
    "tags": []
   },
   "outputs": [],
   "source": [
    "get_results(y, df_model['y_pred'])"
   ]
  },
  {
   "cell_type": "code",
   "execution_count": null,
   "id": "71505e19-2b85-4fda-aa2d-dbca5f70c3a2",
   "metadata": {
    "tags": []
   },
   "outputs": [],
   "source": [
    "print(metrics.classification_report(y, df_model['y_pred']))"
   ]
  },
  {
   "cell_type": "code",
   "execution_count": null,
   "id": "ae51c852-0b60-4391-a2c2-de859418c711",
   "metadata": {
    "tags": []
   },
   "outputs": [],
   "source": [
    "metrics.ConfusionMatrixDisplay(metrics.confusion_matrix(y, df_model['y_pred'])).plot()\n",
    "plt.show()"
   ]
  }
 ],
 "metadata": {
  "kernelspec": {
   "display_name": "Python 3 (ipykernel)",
   "language": "python",
   "name": "python3"
  },
  "language_info": {
   "codemirror_mode": {
    "name": "ipython",
    "version": 3
   },
   "file_extension": ".py",
   "mimetype": "text/x-python",
   "name": "python",
   "nbconvert_exporter": "python",
   "pygments_lexer": "ipython3",
   "version": "3.9.13"
  }
 },
 "nbformat": 4,
 "nbformat_minor": 5
}
